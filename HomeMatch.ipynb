{
 "cells": [
  {
   "cell_type": "markdown",
   "id": "a108af04",
   "metadata": {},
   "source": [
    "This is a starter notebook for the project, you'll have to import the libraries you'll need, you can find a list of the ones available in this workspace in the requirements.txt file in this workspace. "
   ]
  },
  {
   "cell_type": "markdown",
   "id": "34339721",
   "metadata": {},
   "source": [
    "## Import Libraries"
   ]
  },
  {
   "cell_type": "code",
   "execution_count": 1,
   "id": "e95f8f41",
   "metadata": {},
   "outputs": [],
   "source": [
    "!python3 -m venv home_matching"
   ]
  },
  {
   "cell_type": "code",
   "execution_count": 2,
   "id": "074af954",
   "metadata": {},
   "outputs": [],
   "source": [
    "!. home_matching/bin/activate"
   ]
  },
  {
   "cell_type": "code",
   "execution_count": 3,
   "id": "c6b4bfc2",
   "metadata": {},
   "outputs": [
    {
     "name": "stdout",
     "output_type": "stream",
     "text": [
      "Defaulting to user installation because normal site-packages is not writeable\n",
      "Requirement already satisfied: langchain==0.0.305 in /opt/conda/lib/python3.10/site-packages (from -r requirements.txt (line 2)) (0.0.305)\n",
      "Requirement already satisfied: openai==0.28.1 in /opt/conda/lib/python3.10/site-packages (from -r requirements.txt (line 3)) (0.28.1)\n",
      "Requirement already satisfied: pydantic>=1.10.12 in /opt/conda/lib/python3.10/site-packages (from -r requirements.txt (line 4)) (1.10.12)\n",
      "Requirement already satisfied: pytest>=7.4.0 in /opt/conda/lib/python3.10/site-packages (from -r requirements.txt (line 5)) (7.4.0)\n",
      "Requirement already satisfied: sentence-transformers>=2.2.0 in /opt/conda/lib/python3.10/site-packages (from -r requirements.txt (line 6)) (2.2.0)\n",
      "Requirement already satisfied: transformers>=4.31.0 in /opt/conda/lib/python3.10/site-packages (from -r requirements.txt (line 7)) (4.31.0)\n",
      "Requirement already satisfied: chromadb==0.4.12 in /opt/conda/lib/python3.10/site-packages (from -r requirements.txt (line 8)) (0.4.12)\n",
      "Requirement already satisfied: jupyter==1.0.0 in /opt/conda/lib/python3.10/site-packages (from -r requirements.txt (line 9)) (1.0.0)\n",
      "Requirement already satisfied: tiktoken==0.4.0 in /opt/conda/lib/python3.10/site-packages (from -r requirements.txt (line 10)) (0.4.0)\n",
      "Requirement already satisfied: pandas==2.2.3 in /home/student/.local/lib/python3.10/site-packages (from -r requirements.txt (line 13)) (2.2.3)\n",
      "Requirement already satisfied: async-timeout<5.0.0,>=4.0.0 in /opt/conda/lib/python3.10/site-packages (from langchain==0.0.305->-r requirements.txt (line 2)) (4.0.3)\n",
      "Requirement already satisfied: requests<3,>=2 in /opt/conda/lib/python3.10/site-packages (from langchain==0.0.305->-r requirements.txt (line 2)) (2.29.0)\n",
      "Requirement already satisfied: tenacity<9.0.0,>=8.1.0 in /opt/conda/lib/python3.10/site-packages (from langchain==0.0.305->-r requirements.txt (line 2)) (8.3.0)\n",
      "Requirement already satisfied: jsonpatch<2.0,>=1.33 in /opt/conda/lib/python3.10/site-packages (from langchain==0.0.305->-r requirements.txt (line 2)) (1.33)\n",
      "Requirement already satisfied: aiohttp<4.0.0,>=3.8.3 in /opt/conda/lib/python3.10/site-packages (from langchain==0.0.305->-r requirements.txt (line 2)) (3.9.5)\n",
      "Requirement already satisfied: PyYAML>=5.3 in /opt/conda/lib/python3.10/site-packages (from langchain==0.0.305->-r requirements.txt (line 2)) (6.0)\n",
      "Requirement already satisfied: dataclasses-json<0.7,>=0.5.7 in /opt/conda/lib/python3.10/site-packages (from langchain==0.0.305->-r requirements.txt (line 2)) (0.6.6)\n",
      "Requirement already satisfied: numpy<2,>=1 in /opt/conda/lib/python3.10/site-packages (from langchain==0.0.305->-r requirements.txt (line 2)) (1.24.3)\n",
      "Requirement already satisfied: langsmith<0.1.0,>=0.0.38 in /opt/conda/lib/python3.10/site-packages (from langchain==0.0.305->-r requirements.txt (line 2)) (0.0.92)\n",
      "Requirement already satisfied: numexpr<3.0.0,>=2.8.4 in /opt/conda/lib/python3.10/site-packages (from langchain==0.0.305->-r requirements.txt (line 2)) (2.10.0)\n",
      "Requirement already satisfied: SQLAlchemy<3,>=1.4 in /opt/conda/lib/python3.10/site-packages (from langchain==0.0.305->-r requirements.txt (line 2)) (2.0.30)\n",
      "Requirement already satisfied: anyio<4.0 in /opt/conda/lib/python3.10/site-packages (from langchain==0.0.305->-r requirements.txt (line 2)) (3.7.1)\n",
      "Requirement already satisfied: tqdm in /opt/conda/lib/python3.10/site-packages (from openai==0.28.1->-r requirements.txt (line 3)) (4.65.0)\n",
      "Requirement already satisfied: overrides>=7.3.1 in /opt/conda/lib/python3.10/site-packages (from chromadb==0.4.12->-r requirements.txt (line 8)) (7.7.0)\n",
      "Requirement already satisfied: onnxruntime>=1.14.1 in /opt/conda/lib/python3.10/site-packages (from chromadb==0.4.12->-r requirements.txt (line 8)) (1.18.0)\n",
      "Requirement already satisfied: typer>=0.9.0 in /opt/conda/lib/python3.10/site-packages (from chromadb==0.4.12->-r requirements.txt (line 8)) (0.12.3)\n",
      "Requirement already satisfied: bcrypt>=4.0.1 in /opt/conda/lib/python3.10/site-packages (from chromadb==0.4.12->-r requirements.txt (line 8)) (4.1.3)\n",
      "Requirement already satisfied: uvicorn[standard]>=0.18.3 in /opt/conda/lib/python3.10/site-packages (from chromadb==0.4.12->-r requirements.txt (line 8)) (0.29.0)\n",
      "Requirement already satisfied: pulsar-client>=3.1.0 in /opt/conda/lib/python3.10/site-packages (from chromadb==0.4.12->-r requirements.txt (line 8)) (3.5.0)\n",
      "Requirement already satisfied: pypika>=0.48.9 in /opt/conda/lib/python3.10/site-packages (from chromadb==0.4.12->-r requirements.txt (line 8)) (0.48.9)\n",
      "Requirement already satisfied: typing-extensions>=4.5.0 in /opt/conda/lib/python3.10/site-packages (from chromadb==0.4.12->-r requirements.txt (line 8)) (4.11.0)\n",
      "Requirement already satisfied: fastapi<0.100.0,>=0.95.2 in /opt/conda/lib/python3.10/site-packages (from chromadb==0.4.12->-r requirements.txt (line 8)) (0.99.1)\n",
      "Requirement already satisfied: tokenizers>=0.13.2 in /opt/conda/lib/python3.10/site-packages (from chromadb==0.4.12->-r requirements.txt (line 8)) (0.13.3)\n",
      "Requirement already satisfied: chroma-hnswlib==0.7.3 in /opt/conda/lib/python3.10/site-packages (from chromadb==0.4.12->-r requirements.txt (line 8)) (0.7.3)\n",
      "Requirement already satisfied: importlib-resources in /opt/conda/lib/python3.10/site-packages (from chromadb==0.4.12->-r requirements.txt (line 8)) (6.4.0)\n",
      "Requirement already satisfied: posthog>=2.4.0 in /opt/conda/lib/python3.10/site-packages (from chromadb==0.4.12->-r requirements.txt (line 8)) (3.5.0)\n",
      "Requirement already satisfied: notebook in /opt/conda/lib/python3.10/site-packages (from jupyter==1.0.0->-r requirements.txt (line 9)) (6.5.6)\n",
      "Requirement already satisfied: qtconsole in /opt/conda/lib/python3.10/site-packages (from jupyter==1.0.0->-r requirements.txt (line 9)) (5.5.2)\n",
      "Requirement already satisfied: ipykernel in /opt/conda/lib/python3.10/site-packages (from jupyter==1.0.0->-r requirements.txt (line 9)) (6.29.4)\n",
      "Requirement already satisfied: nbconvert in /opt/conda/lib/python3.10/site-packages (from jupyter==1.0.0->-r requirements.txt (line 9)) (7.16.4)\n",
      "Requirement already satisfied: ipywidgets in /opt/conda/lib/python3.10/site-packages (from jupyter==1.0.0->-r requirements.txt (line 9)) (8.1.2)\n",
      "Requirement already satisfied: jupyter-console in /opt/conda/lib/python3.10/site-packages (from jupyter==1.0.0->-r requirements.txt (line 9)) (6.6.3)\n",
      "Requirement already satisfied: regex>=2022.1.18 in /opt/conda/lib/python3.10/site-packages (from tiktoken==0.4.0->-r requirements.txt (line 10)) (2024.5.15)\n",
      "Requirement already satisfied: python-dateutil>=2.8.2 in /opt/conda/lib/python3.10/site-packages (from pandas==2.2.3->-r requirements.txt (line 13)) (2.9.0.post0)\n",
      "Requirement already satisfied: pytz>=2020.1 in /opt/conda/lib/python3.10/site-packages (from pandas==2.2.3->-r requirements.txt (line 13)) (2022.7)\n",
      "Requirement already satisfied: tzdata>=2022.7 in /home/student/.local/lib/python3.10/site-packages (from pandas==2.2.3->-r requirements.txt (line 13)) (2024.2)\n",
      "Requirement already satisfied: tomli>=1.0.0 in /opt/conda/lib/python3.10/site-packages (from pytest>=7.4.0->-r requirements.txt (line 5)) (2.0.1)\n",
      "Requirement already satisfied: pluggy<2.0,>=0.12 in /opt/conda/lib/python3.10/site-packages (from pytest>=7.4.0->-r requirements.txt (line 5)) (1.0.0)\n",
      "Requirement already satisfied: packaging in /opt/conda/lib/python3.10/site-packages (from pytest>=7.4.0->-r requirements.txt (line 5)) (23.0)\n",
      "Requirement already satisfied: exceptiongroup>=1.0.0rc8 in /opt/conda/lib/python3.10/site-packages (from pytest>=7.4.0->-r requirements.txt (line 5)) (1.1.1)\n",
      "Requirement already satisfied: iniconfig in /opt/conda/lib/python3.10/site-packages (from pytest>=7.4.0->-r requirements.txt (line 5)) (2.0.0)\n",
      "Requirement already satisfied: sentencepiece in /opt/conda/lib/python3.10/site-packages (from sentence-transformers>=2.2.0->-r requirements.txt (line 6)) (0.2.0)\n",
      "Requirement already satisfied: nltk in /opt/conda/lib/python3.10/site-packages (from sentence-transformers>=2.2.0->-r requirements.txt (line 6)) (3.8.1)\n",
      "Requirement already satisfied: torchvision in /opt/conda/lib/python3.10/site-packages (from sentence-transformers>=2.2.0->-r requirements.txt (line 6)) (0.15.2)\n",
      "Requirement already satisfied: torch>=1.6.0 in /opt/conda/lib/python3.10/site-packages (from sentence-transformers>=2.2.0->-r requirements.txt (line 6)) (2.0.1)\n",
      "Requirement already satisfied: huggingface-hub in /opt/conda/lib/python3.10/site-packages (from sentence-transformers>=2.2.0->-r requirements.txt (line 6)) (0.23.0)\n",
      "Requirement already satisfied: scikit-learn in /opt/conda/lib/python3.10/site-packages (from sentence-transformers>=2.2.0->-r requirements.txt (line 6)) (1.4.2)\n",
      "Requirement already satisfied: scipy in /opt/conda/lib/python3.10/site-packages (from sentence-transformers>=2.2.0->-r requirements.txt (line 6)) (1.13.0)\n"
     ]
    },
    {
     "name": "stdout",
     "output_type": "stream",
     "text": [
      "Requirement already satisfied: safetensors>=0.3.1 in /opt/conda/lib/python3.10/site-packages (from transformers>=4.31.0->-r requirements.txt (line 7)) (0.4.3)\n",
      "Requirement already satisfied: filelock in /opt/conda/lib/python3.10/site-packages (from transformers>=4.31.0->-r requirements.txt (line 7)) (3.9.0)\n",
      "Requirement already satisfied: aiosignal>=1.1.2 in /opt/conda/lib/python3.10/site-packages (from aiohttp<4.0.0,>=3.8.3->langchain==0.0.305->-r requirements.txt (line 2)) (1.3.1)\n",
      "Requirement already satisfied: frozenlist>=1.1.1 in /opt/conda/lib/python3.10/site-packages (from aiohttp<4.0.0,>=3.8.3->langchain==0.0.305->-r requirements.txt (line 2)) (1.4.1)\n",
      "Requirement already satisfied: attrs>=17.3.0 in /opt/conda/lib/python3.10/site-packages (from aiohttp<4.0.0,>=3.8.3->langchain==0.0.305->-r requirements.txt (line 2)) (23.1.0)\n",
      "Requirement already satisfied: multidict<7.0,>=4.5 in /opt/conda/lib/python3.10/site-packages (from aiohttp<4.0.0,>=3.8.3->langchain==0.0.305->-r requirements.txt (line 2)) (6.0.5)\n",
      "Requirement already satisfied: yarl<2.0,>=1.0 in /opt/conda/lib/python3.10/site-packages (from aiohttp<4.0.0,>=3.8.3->langchain==0.0.305->-r requirements.txt (line 2)) (1.9.4)\n",
      "Requirement already satisfied: idna>=2.8 in /opt/conda/lib/python3.10/site-packages (from anyio<4.0->langchain==0.0.305->-r requirements.txt (line 2)) (3.4)\n",
      "Requirement already satisfied: sniffio>=1.1 in /opt/conda/lib/python3.10/site-packages (from anyio<4.0->langchain==0.0.305->-r requirements.txt (line 2)) (1.3.1)\n",
      "Requirement already satisfied: marshmallow<4.0.0,>=3.18.0 in /opt/conda/lib/python3.10/site-packages (from dataclasses-json<0.7,>=0.5.7->langchain==0.0.305->-r requirements.txt (line 2)) (3.21.2)\n",
      "Requirement already satisfied: typing-inspect<1,>=0.4.0 in /opt/conda/lib/python3.10/site-packages (from dataclasses-json<0.7,>=0.5.7->langchain==0.0.305->-r requirements.txt (line 2)) (0.9.0)\n",
      "Requirement already satisfied: starlette<0.28.0,>=0.27.0 in /opt/conda/lib/python3.10/site-packages (from fastapi<0.100.0,>=0.95.2->chromadb==0.4.12->-r requirements.txt (line 8)) (0.27.0)\n",
      "Requirement already satisfied: fsspec>=2023.5.0 in /opt/conda/lib/python3.10/site-packages (from huggingface-hub->sentence-transformers>=2.2.0->-r requirements.txt (line 6)) (2024.5.0)\n",
      "Requirement already satisfied: jsonpointer>=1.9 in /opt/conda/lib/python3.10/site-packages (from jsonpatch<2.0,>=1.33->langchain==0.0.305->-r requirements.txt (line 2)) (2.1)\n",
      "Requirement already satisfied: flatbuffers in /opt/conda/lib/python3.10/site-packages (from onnxruntime>=1.14.1->chromadb==0.4.12->-r requirements.txt (line 8)) (24.3.25)\n",
      "Requirement already satisfied: sympy in /opt/conda/lib/python3.10/site-packages (from onnxruntime>=1.14.1->chromadb==0.4.12->-r requirements.txt (line 8)) (1.12)\n",
      "Requirement already satisfied: protobuf in /opt/conda/lib/python3.10/site-packages (from onnxruntime>=1.14.1->chromadb==0.4.12->-r requirements.txt (line 8)) (5.26.1)\n",
      "Requirement already satisfied: coloredlogs in /opt/conda/lib/python3.10/site-packages (from onnxruntime>=1.14.1->chromadb==0.4.12->-r requirements.txt (line 8)) (15.0.1)\n",
      "Requirement already satisfied: six>=1.5 in /opt/conda/lib/python3.10/site-packages (from posthog>=2.4.0->chromadb==0.4.12->-r requirements.txt (line 8)) (1.16.0)\n",
      "Requirement already satisfied: backoff>=1.10.0 in /opt/conda/lib/python3.10/site-packages (from posthog>=2.4.0->chromadb==0.4.12->-r requirements.txt (line 8)) (2.2.1)\n",
      "Requirement already satisfied: monotonic>=1.5 in /opt/conda/lib/python3.10/site-packages (from posthog>=2.4.0->chromadb==0.4.12->-r requirements.txt (line 8)) (1.6)\n",
      "Requirement already satisfied: certifi in /opt/conda/lib/python3.10/site-packages (from pulsar-client>=3.1.0->chromadb==0.4.12->-r requirements.txt (line 8)) (2023.5.7)\n",
      "Requirement already satisfied: urllib3<1.27,>=1.21.1 in /opt/conda/lib/python3.10/site-packages (from requests<3,>=2->langchain==0.0.305->-r requirements.txt (line 2)) (1.26.15)\n",
      "Requirement already satisfied: charset-normalizer<4,>=2 in /opt/conda/lib/python3.10/site-packages (from requests<3,>=2->langchain==0.0.305->-r requirements.txt (line 2)) (2.0.4)\n",
      "Requirement already satisfied: greenlet!=0.4.17 in /opt/conda/lib/python3.10/site-packages (from SQLAlchemy<3,>=1.4->langchain==0.0.305->-r requirements.txt (line 2)) (3.0.3)\n",
      "Requirement already satisfied: networkx in /opt/conda/lib/python3.10/site-packages (from torch>=1.6.0->sentence-transformers>=2.2.0->-r requirements.txt (line 6)) (3.1)\n",
      "Requirement already satisfied: jinja2 in /opt/conda/lib/python3.10/site-packages (from torch>=1.6.0->sentence-transformers>=2.2.0->-r requirements.txt (line 6)) (3.1.2)\n",
      "Requirement already satisfied: shellingham>=1.3.0 in /opt/conda/lib/python3.10/site-packages (from typer>=0.9.0->chromadb==0.4.12->-r requirements.txt (line 8)) (1.5.4)\n",
      "Requirement already satisfied: click>=8.0.0 in /opt/conda/lib/python3.10/site-packages (from typer>=0.9.0->chromadb==0.4.12->-r requirements.txt (line 8)) (8.1.7)\n",
      "Requirement already satisfied: rich>=10.11.0 in /opt/conda/lib/python3.10/site-packages (from typer>=0.9.0->chromadb==0.4.12->-r requirements.txt (line 8)) (13.7.1)\n",
      "Requirement already satisfied: h11>=0.8 in /opt/conda/lib/python3.10/site-packages (from uvicorn[standard]>=0.18.3->chromadb==0.4.12->-r requirements.txt (line 8)) (0.14.0)\n",
      "Requirement already satisfied: websockets>=10.4 in /opt/conda/lib/python3.10/site-packages (from uvicorn[standard]>=0.18.3->chromadb==0.4.12->-r requirements.txt (line 8)) (12.0)\n",
      "Requirement already satisfied: watchfiles>=0.13 in /opt/conda/lib/python3.10/site-packages (from uvicorn[standard]>=0.18.3->chromadb==0.4.12->-r requirements.txt (line 8)) (0.21.0)\n",
      "Requirement already satisfied: python-dotenv>=0.13 in /opt/conda/lib/python3.10/site-packages (from uvicorn[standard]>=0.18.3->chromadb==0.4.12->-r requirements.txt (line 8)) (1.0.1)\n",
      "Requirement already satisfied: uvloop!=0.15.0,!=0.15.1,>=0.14.0 in /opt/conda/lib/python3.10/site-packages (from uvicorn[standard]>=0.18.3->chromadb==0.4.12->-r requirements.txt (line 8)) (0.19.0)\n",
      "Requirement already satisfied: httptools>=0.5.0 in /opt/conda/lib/python3.10/site-packages (from uvicorn[standard]>=0.18.3->chromadb==0.4.12->-r requirements.txt (line 8)) (0.6.1)\n",
      "Requirement already satisfied: pyzmq>=24 in /opt/conda/lib/python3.10/site-packages (from ipykernel->jupyter==1.0.0->-r requirements.txt (line 9)) (24.0.1)\n",
      "Requirement already satisfied: jupyter-client>=6.1.12 in /opt/conda/lib/python3.10/site-packages (from ipykernel->jupyter==1.0.0->-r requirements.txt (line 9)) (7.4.9)\n",
      "Requirement already satisfied: matplotlib-inline>=0.1 in /opt/conda/lib/python3.10/site-packages (from ipykernel->jupyter==1.0.0->-r requirements.txt (line 9)) (0.1.6)\n",
      "Requirement already satisfied: nest-asyncio in /opt/conda/lib/python3.10/site-packages (from ipykernel->jupyter==1.0.0->-r requirements.txt (line 9)) (1.6.0)\n",
      "Requirement already satisfied: comm>=0.1.1 in /opt/conda/lib/python3.10/site-packages (from ipykernel->jupyter==1.0.0->-r requirements.txt (line 9)) (0.2.2)\n",
      "Requirement already satisfied: tornado>=6.1 in /opt/conda/lib/python3.10/site-packages (from ipykernel->jupyter==1.0.0->-r requirements.txt (line 9)) (6.4)\n",
      "Requirement already satisfied: jupyter-core!=5.0.*,>=4.12 in /opt/conda/lib/python3.10/site-packages (from ipykernel->jupyter==1.0.0->-r requirements.txt (line 9)) (5.7.2)\n",
      "Requirement already satisfied: ipython>=7.23.1 in /opt/conda/lib/python3.10/site-packages (from ipykernel->jupyter==1.0.0->-r requirements.txt (line 9)) (8.12.0)\n",
      "Requirement already satisfied: debugpy>=1.6.5 in /opt/conda/lib/python3.10/site-packages (from ipykernel->jupyter==1.0.0->-r requirements.txt (line 9)) (1.8.1)\n",
      "Requirement already satisfied: psutil in /opt/conda/lib/python3.10/site-packages (from ipykernel->jupyter==1.0.0->-r requirements.txt (line 9)) (5.9.0)\n",
      "Requirement already satisfied: traitlets>=5.4.0 in /opt/conda/lib/python3.10/site-packages (from ipykernel->jupyter==1.0.0->-r requirements.txt (line 9)) (5.7.1)\n",
      "Requirement already satisfied: jupyterlab-widgets~=3.0.10 in /opt/conda/lib/python3.10/site-packages (from ipywidgets->jupyter==1.0.0->-r requirements.txt (line 9)) (3.0.10)\n",
      "Requirement already satisfied: widgetsnbextension~=4.0.10 in /opt/conda/lib/python3.10/site-packages (from ipywidgets->jupyter==1.0.0->-r requirements.txt (line 9)) (4.0.10)\n",
      "Requirement already satisfied: prompt-toolkit>=3.0.30 in /opt/conda/lib/python3.10/site-packages (from jupyter-console->jupyter==1.0.0->-r requirements.txt (line 9)) (3.0.36)\n",
      "Requirement already satisfied: pygments in /opt/conda/lib/python3.10/site-packages (from jupyter-console->jupyter==1.0.0->-r requirements.txt (line 9)) (2.15.1)\n"
     ]
    },
    {
     "name": "stdout",
     "output_type": "stream",
     "text": [
      "Requirement already satisfied: mistune<4,>=2.0.3 in /opt/conda/lib/python3.10/site-packages (from nbconvert->jupyter==1.0.0->-r requirements.txt (line 9)) (3.0.2)\n",
      "Requirement already satisfied: markupsafe>=2.0 in /opt/conda/lib/python3.10/site-packages (from nbconvert->jupyter==1.0.0->-r requirements.txt (line 9)) (2.1.1)\n",
      "Requirement already satisfied: nbclient>=0.5.0 in /opt/conda/lib/python3.10/site-packages (from nbconvert->jupyter==1.0.0->-r requirements.txt (line 9)) (0.10.0)\n",
      "Requirement already satisfied: pandocfilters>=1.4.1 in /opt/conda/lib/python3.10/site-packages (from nbconvert->jupyter==1.0.0->-r requirements.txt (line 9)) (1.5.1)\n",
      "Requirement already satisfied: bleach!=5.0.0 in /opt/conda/lib/python3.10/site-packages (from nbconvert->jupyter==1.0.0->-r requirements.txt (line 9)) (6.1.0)\n",
      "Requirement already satisfied: nbformat>=5.7 in /opt/conda/lib/python3.10/site-packages (from nbconvert->jupyter==1.0.0->-r requirements.txt (line 9)) (5.10.4)\n",
      "Requirement already satisfied: tinycss2 in /opt/conda/lib/python3.10/site-packages (from nbconvert->jupyter==1.0.0->-r requirements.txt (line 9)) (1.3.0)\n",
      "Requirement already satisfied: jupyterlab-pygments in /opt/conda/lib/python3.10/site-packages (from nbconvert->jupyter==1.0.0->-r requirements.txt (line 9)) (0.3.0)\n",
      "Requirement already satisfied: defusedxml in /opt/conda/lib/python3.10/site-packages (from nbconvert->jupyter==1.0.0->-r requirements.txt (line 9)) (0.7.1)\n",
      "Requirement already satisfied: beautifulsoup4 in /opt/conda/lib/python3.10/site-packages (from nbconvert->jupyter==1.0.0->-r requirements.txt (line 9)) (4.12.2)\n",
      "Requirement already satisfied: joblib in /opt/conda/lib/python3.10/site-packages (from nltk->sentence-transformers>=2.2.0->-r requirements.txt (line 6)) (1.4.2)\n",
      "Requirement already satisfied: prometheus-client in /opt/conda/lib/python3.10/site-packages (from notebook->jupyter==1.0.0->-r requirements.txt (line 9)) (0.20.0)\n",
      "Requirement already satisfied: nbclassic>=0.4.7 in /opt/conda/lib/python3.10/site-packages (from notebook->jupyter==1.0.0->-r requirements.txt (line 9)) (1.0.0)\n",
      "Requirement already satisfied: Send2Trash>=1.8.0 in /opt/conda/lib/python3.10/site-packages (from notebook->jupyter==1.0.0->-r requirements.txt (line 9)) (1.8.3)\n",
      "Requirement already satisfied: ipython-genutils in /opt/conda/lib/python3.10/site-packages (from notebook->jupyter==1.0.0->-r requirements.txt (line 9)) (0.2.0)\n",
      "Requirement already satisfied: argon2-cffi in /opt/conda/lib/python3.10/site-packages (from notebook->jupyter==1.0.0->-r requirements.txt (line 9)) (23.1.0)\n",
      "Requirement already satisfied: terminado>=0.8.3 in /opt/conda/lib/python3.10/site-packages (from notebook->jupyter==1.0.0->-r requirements.txt (line 9)) (0.18.1)\n",
      "Requirement already satisfied: qtpy>=2.4.0 in /opt/conda/lib/python3.10/site-packages (from qtconsole->jupyter==1.0.0->-r requirements.txt (line 9)) (2.4.1)\n",
      "Requirement already satisfied: threadpoolctl>=2.0.0 in /opt/conda/lib/python3.10/site-packages (from scikit-learn->sentence-transformers>=2.2.0->-r requirements.txt (line 6)) (3.5.0)\n",
      "Requirement already satisfied: pillow!=8.3.*,>=5.3.0 in /opt/conda/lib/python3.10/site-packages (from torchvision->sentence-transformers>=2.2.0->-r requirements.txt (line 6)) (9.4.0)\n",
      "Requirement already satisfied: webencodings in /opt/conda/lib/python3.10/site-packages (from bleach!=5.0.0->nbconvert->jupyter==1.0.0->-r requirements.txt (line 9)) (0.5.1)\n",
      "Requirement already satisfied: stack-data in /opt/conda/lib/python3.10/site-packages (from ipython>=7.23.1->ipykernel->jupyter==1.0.0->-r requirements.txt (line 9)) (0.2.0)\n",
      "Requirement already satisfied: jedi>=0.16 in /opt/conda/lib/python3.10/site-packages (from ipython>=7.23.1->ipykernel->jupyter==1.0.0->-r requirements.txt (line 9)) (0.18.1)\n",
      "Requirement already satisfied: backcall in /opt/conda/lib/python3.10/site-packages (from ipython>=7.23.1->ipykernel->jupyter==1.0.0->-r requirements.txt (line 9)) (0.2.0)\n",
      "Requirement already satisfied: decorator in /opt/conda/lib/python3.10/site-packages (from ipython>=7.23.1->ipykernel->jupyter==1.0.0->-r requirements.txt (line 9)) (5.1.1)\n",
      "Requirement already satisfied: pickleshare in /opt/conda/lib/python3.10/site-packages (from ipython>=7.23.1->ipykernel->jupyter==1.0.0->-r requirements.txt (line 9)) (0.7.5)\n",
      "Requirement already satisfied: pexpect>4.3 in /opt/conda/lib/python3.10/site-packages (from ipython>=7.23.1->ipykernel->jupyter==1.0.0->-r requirements.txt (line 9)) (4.8.0)\n",
      "Requirement already satisfied: entrypoints in /opt/conda/lib/python3.10/site-packages (from jupyter-client>=6.1.12->ipykernel->jupyter==1.0.0->-r requirements.txt (line 9)) (0.4)\n",
      "Requirement already satisfied: platformdirs>=2.5 in /opt/conda/lib/python3.10/site-packages (from jupyter-core!=5.0.*,>=4.12->ipykernel->jupyter==1.0.0->-r requirements.txt (line 9)) (4.2.2)\n",
      "Requirement already satisfied: jupyter-server>=1.8 in /opt/conda/lib/python3.10/site-packages (from nbclassic>=0.4.7->notebook->jupyter==1.0.0->-r requirements.txt (line 9)) (2.14.0)\n",
      "Requirement already satisfied: notebook-shim>=0.2.3 in /opt/conda/lib/python3.10/site-packages (from nbclassic>=0.4.7->notebook->jupyter==1.0.0->-r requirements.txt (line 9)) (0.2.4)\n",
      "Requirement already satisfied: fastjsonschema>=2.15 in /opt/conda/lib/python3.10/site-packages (from nbformat>=5.7->nbconvert->jupyter==1.0.0->-r requirements.txt (line 9)) (2.19.1)\n",
      "Requirement already satisfied: jsonschema>=2.6 in /opt/conda/lib/python3.10/site-packages (from nbformat>=5.7->nbconvert->jupyter==1.0.0->-r requirements.txt (line 9)) (4.22.0)\n",
      "Requirement already satisfied: wcwidth in /opt/conda/lib/python3.10/site-packages (from prompt-toolkit>=3.0.30->jupyter-console->jupyter==1.0.0->-r requirements.txt (line 9)) (0.2.5)\n",
      "Requirement already satisfied: markdown-it-py>=2.2.0 in /opt/conda/lib/python3.10/site-packages (from rich>=10.11.0->typer>=0.9.0->chromadb==0.4.12->-r requirements.txt (line 8)) (3.0.0)\n",
      "Requirement already satisfied: ptyprocess in /opt/conda/lib/python3.10/site-packages (from terminado>=0.8.3->notebook->jupyter==1.0.0->-r requirements.txt (line 9)) (0.7.0)\n",
      "Requirement already satisfied: mypy-extensions>=0.3.0 in /opt/conda/lib/python3.10/site-packages (from typing-inspect<1,>=0.4.0->dataclasses-json<0.7,>=0.5.7->langchain==0.0.305->-r requirements.txt (line 2)) (1.0.0)\n",
      "Requirement already satisfied: argon2-cffi-bindings in /opt/conda/lib/python3.10/site-packages (from argon2-cffi->notebook->jupyter==1.0.0->-r requirements.txt (line 9)) (21.2.0)\n",
      "Requirement already satisfied: soupsieve>1.2 in /opt/conda/lib/python3.10/site-packages (from beautifulsoup4->nbconvert->jupyter==1.0.0->-r requirements.txt (line 9)) (2.4)\n",
      "Requirement already satisfied: humanfriendly>=9.1 in /opt/conda/lib/python3.10/site-packages (from coloredlogs->onnxruntime>=1.14.1->chromadb==0.4.12->-r requirements.txt (line 8)) (10.0)\n",
      "Requirement already satisfied: mpmath>=0.19 in /opt/conda/lib/python3.10/site-packages (from sympy->onnxruntime>=1.14.1->chromadb==0.4.12->-r requirements.txt (line 8)) (1.3.0)\n",
      "Requirement already satisfied: parso<0.9.0,>=0.8.0 in /opt/conda/lib/python3.10/site-packages (from jedi>=0.16->ipython>=7.23.1->ipykernel->jupyter==1.0.0->-r requirements.txt (line 9)) (0.8.3)\n",
      "Requirement already satisfied: rpds-py>=0.7.1 in /opt/conda/lib/python3.10/site-packages (from jsonschema>=2.6->nbformat>=5.7->nbconvert->jupyter==1.0.0->-r requirements.txt (line 9)) (0.18.1)\n",
      "Requirement already satisfied: jsonschema-specifications>=2023.03.6 in /opt/conda/lib/python3.10/site-packages (from jsonschema>=2.6->nbformat>=5.7->nbconvert->jupyter==1.0.0->-r requirements.txt (line 9)) (2023.12.1)\n",
      "Requirement already satisfied: referencing>=0.28.4 in /opt/conda/lib/python3.10/site-packages (from jsonschema>=2.6->nbformat>=5.7->nbconvert->jupyter==1.0.0->-r requirements.txt (line 9)) (0.35.1)\n",
      "Requirement already satisfied: jupyter-events>=0.9.0 in /opt/conda/lib/python3.10/site-packages (from jupyter-server>=1.8->nbclassic>=0.4.7->notebook->jupyter==1.0.0->-r requirements.txt (line 9)) (0.10.0)\n",
      "Requirement already satisfied: websocket-client>=1.7 in /opt/conda/lib/python3.10/site-packages (from jupyter-server>=1.8->nbclassic>=0.4.7->notebook->jupyter==1.0.0->-r requirements.txt (line 9)) (1.8.0)\n",
      "Requirement already satisfied: jupyter-server-terminals>=0.4.4 in /opt/conda/lib/python3.10/site-packages (from jupyter-server>=1.8->nbclassic>=0.4.7->notebook->jupyter==1.0.0->-r requirements.txt (line 9)) (0.5.3)\n",
      "Requirement already satisfied: mdurl~=0.1 in /opt/conda/lib/python3.10/site-packages (from markdown-it-py>=2.2.0->rich>=10.11.0->typer>=0.9.0->chromadb==0.4.12->-r requirements.txt (line 8)) (0.1.2)\n"
     ]
    },
    {
     "name": "stdout",
     "output_type": "stream",
     "text": [
      "Requirement already satisfied: cffi>=1.0.1 in /opt/conda/lib/python3.10/site-packages (from argon2-cffi-bindings->argon2-cffi->notebook->jupyter==1.0.0->-r requirements.txt (line 9)) (1.15.1)\n",
      "Requirement already satisfied: pure-eval in /opt/conda/lib/python3.10/site-packages (from stack-data->ipython>=7.23.1->ipykernel->jupyter==1.0.0->-r requirements.txt (line 9)) (0.2.2)\n",
      "Requirement already satisfied: asttokens in /opt/conda/lib/python3.10/site-packages (from stack-data->ipython>=7.23.1->ipykernel->jupyter==1.0.0->-r requirements.txt (line 9)) (2.0.5)\n",
      "Requirement already satisfied: executing in /opt/conda/lib/python3.10/site-packages (from stack-data->ipython>=7.23.1->ipykernel->jupyter==1.0.0->-r requirements.txt (line 9)) (0.8.3)\n",
      "Requirement already satisfied: pycparser in /opt/conda/lib/python3.10/site-packages (from cffi>=1.0.1->argon2-cffi-bindings->argon2-cffi->notebook->jupyter==1.0.0->-r requirements.txt (line 9)) (2.21)\n",
      "Requirement already satisfied: rfc3339-validator in /opt/conda/lib/python3.10/site-packages (from jupyter-events>=0.9.0->jupyter-server>=1.8->nbclassic>=0.4.7->notebook->jupyter==1.0.0->-r requirements.txt (line 9)) (0.1.4)\n",
      "Requirement already satisfied: rfc3986-validator>=0.1.1 in /opt/conda/lib/python3.10/site-packages (from jupyter-events>=0.9.0->jupyter-server>=1.8->nbclassic>=0.4.7->notebook->jupyter==1.0.0->-r requirements.txt (line 9)) (0.1.1)\n",
      "Requirement already satisfied: python-json-logger>=2.0.4 in /opt/conda/lib/python3.10/site-packages (from jupyter-events>=0.9.0->jupyter-server>=1.8->nbclassic>=0.4.7->notebook->jupyter==1.0.0->-r requirements.txt (line 9)) (2.0.7)\n",
      "Requirement already satisfied: isoduration in /opt/conda/lib/python3.10/site-packages (from jsonschema>=2.6->nbformat>=5.7->nbconvert->jupyter==1.0.0->-r requirements.txt (line 9)) (20.11.0)\n",
      "Requirement already satisfied: webcolors>=1.11 in /opt/conda/lib/python3.10/site-packages (from jsonschema>=2.6->nbformat>=5.7->nbconvert->jupyter==1.0.0->-r requirements.txt (line 9)) (1.13)\n",
      "Requirement already satisfied: fqdn in /opt/conda/lib/python3.10/site-packages (from jsonschema>=2.6->nbformat>=5.7->nbconvert->jupyter==1.0.0->-r requirements.txt (line 9)) (1.5.1)\n",
      "Requirement already satisfied: uri-template in /opt/conda/lib/python3.10/site-packages (from jsonschema>=2.6->nbformat>=5.7->nbconvert->jupyter==1.0.0->-r requirements.txt (line 9)) (1.3.0)\n",
      "Requirement already satisfied: arrow>=0.15.0 in /opt/conda/lib/python3.10/site-packages (from isoduration->jsonschema>=2.6->nbformat>=5.7->nbconvert->jupyter==1.0.0->-r requirements.txt (line 9)) (1.3.0)\n",
      "Requirement already satisfied: types-python-dateutil>=2.8.10 in /opt/conda/lib/python3.10/site-packages (from arrow>=0.15.0->isoduration->jsonschema>=2.6->nbformat>=5.7->nbconvert->jupyter==1.0.0->-r requirements.txt (line 9)) (2.9.0.20240316)\n"
     ]
    }
   ],
   "source": [
    "!python3 -m pip install -r requirements.txt"
   ]
  },
  {
   "cell_type": "code",
   "execution_count": 4,
   "id": "e5806a00",
   "metadata": {},
   "outputs": [],
   "source": [
    "import os\n",
    "import pandas as pd\n",
    "import torch"
   ]
  },
  {
   "cell_type": "code",
   "execution_count": 5,
   "id": "6bcdddc7",
   "metadata": {},
   "outputs": [],
   "source": [
    "# pd.set_option('display.max_colwidth', None)  "
   ]
  },
  {
   "cell_type": "code",
   "execution_count": 6,
   "id": "7ccc83d1",
   "metadata": {},
   "outputs": [
    {
     "name": "stdout",
     "output_type": "stream",
     "text": [
      "Using device: cpu\n"
     ]
    }
   ],
   "source": [
    "device = torch.device(\"cuda\" if torch.cuda.is_available() else \"cpu\")  \n",
    "print(f\"Using device: {device}\") "
   ]
  },
  {
   "cell_type": "markdown",
   "id": "81df9a7e",
   "metadata": {},
   "source": [
    "## Setup OpenAI Key"
   ]
  },
  {
   "cell_type": "code",
   "execution_count": 7,
   "id": "c0daa139",
   "metadata": {},
   "outputs": [],
   "source": [
    "os.environ[\"OPENAI_API_KEY\"] = \"YOUR API KEY\"\n",
    "os.environ[\"OPENAI_API_BASE\"] = \"https://openai.vocareum.com/v1\""
   ]
  },
  {
   "cell_type": "markdown",
   "id": "aa65abca",
   "metadata": {},
   "source": [
    "## Generate Real Estate Listings"
   ]
  },
  {
   "cell_type": "markdown",
   "id": "d2a419f4",
   "metadata": {},
   "source": [
    "Generate real estate listings using a Large Language Model. Generate at least 10 listings This can involve creating prompts for the LLM to produce descriptions of various properties. <br>"
   ]
  },
  {
   "cell_type": "markdown",
   "id": "864d05d5",
   "metadata": {},
   "source": [
    "### Prompt\n",
    "> You are a property guru in singapore. I need 15 listing of house around singapore. Can you generate them with the following fields: Neighborhood, Price, Bedrooms, Bathroom, House Size, Description, Neigborhood Description\n",
    "\n",
    "*The results are saved in the `listings.csv`*"
   ]
  },
  {
   "cell_type": "code",
   "execution_count": 8,
   "id": "aab04074",
   "metadata": {},
   "outputs": [],
   "source": [
    "import openai\n",
    "openai.api_key = os.environ[\"OPENAI_API_KEY\"]"
   ]
  },
  {
   "cell_type": "code",
   "execution_count": 9,
   "id": "82b11882",
   "metadata": {},
   "outputs": [],
   "source": [
    "def generate_current_timestamp(time_format='%Y%m%d'):\n",
    "    from datetime import datetime\n",
    "    now = datetime.now()\n",
    "    current_timestamp = now.strftime(time_format)\n",
    "    return current_timestamp"
   ]
  },
  {
   "cell_type": "code",
   "execution_count": 10,
   "id": "ce117863",
   "metadata": {},
   "outputs": [],
   "source": [
    "def save_to_file(content, filename):\n",
    "    with open(filename, 'w') as file:\n",
    "        file.write(content)\n",
    "        \n",
    "    print(f'Saved listing successfully to {filename}')"
   ]
  },
  {
   "cell_type": "code",
   "execution_count": 11,
   "id": "ef806496",
   "metadata": {},
   "outputs": [],
   "source": [
    "def generate_listing_prompt_template(country = \"Singapore\", listing_count = \"10\"):\n",
    "    return f\"\"\"\n",
    "        You are a property guru in singapore. \n",
    "        I need {listing_count} listing of house around {country}.\n",
    "        \n",
    "        Can you generate them with the following fields in csv format: \n",
    "        Neighborhood, Price, Bedrooms, Bathroom, House Size, Description, Neigborhood Description\n",
    "    \"\"\""
   ]
  },
  {
   "cell_type": "code",
   "execution_count": 12,
   "id": "2c19e681",
   "metadata": {},
   "outputs": [],
   "source": [
    "def generate_listing_prompt_response(user_prompt, model_name = 'gpt-3.5-turbo'):\n",
    "    return openai.ChatCompletion.create(  \n",
    "        model=model_name,  \n",
    "        messages=[\n",
    "                {\"role\": \"system\", \"content\": \"You are a helpful property guru assistant that provides accurate and detailed information based on the user's queries. Avoid making assumptions and focus on the provided data.\"},\n",
    "                {\"role\": \"user\", \"content\": user_prompt}  \n",
    "            ]  \n",
    "        )  "
   ]
  },
  {
   "cell_type": "markdown",
   "id": "c9f917f5",
   "metadata": {},
   "source": [
    "#### Generate Prompt to generate mthe property listing"
   ]
  },
  {
   "cell_type": "code",
   "execution_count": 13,
   "id": "c3e03439",
   "metadata": {},
   "outputs": [
    {
     "data": {
      "text/plain": [
       "'\\n        You are a property guru in singapore. \\n        I need 15 listing of house around Singapore.\\n        \\n        Can you generate them with the following fields in csv format: \\n        Neighborhood, Price, Bedrooms, Bathroom, House Size, Description, Neigborhood Description\\n    '"
      ]
     },
     "execution_count": 13,
     "metadata": {},
     "output_type": "execute_result"
    }
   ],
   "source": [
    "# Prepare the prompt for OpenAI\n",
    "listing_prompt = generate_listing_prompt_template(country = \"Singapore\", listing_count = \"15\")\n",
    "listing_prompt"
   ]
  },
  {
   "cell_type": "markdown",
   "id": "755434d8",
   "metadata": {},
   "source": [
    "#### Send Prompt to OpenAI Model"
   ]
  },
  {
   "cell_type": "code",
   "execution_count": 14,
   "id": "ded6c48b",
   "metadata": {},
   "outputs": [],
   "source": [
    "listing_response = generate_listing_prompt_response(listing_prompt)"
   ]
  },
  {
   "cell_type": "markdown",
   "id": "0e3f4d92",
   "metadata": {},
   "source": [
    "#### Show the Prompt Response from OpenAI"
   ]
  },
  {
   "cell_type": "code",
   "execution_count": 15,
   "id": "1eff197a",
   "metadata": {},
   "outputs": [
    {
     "name": "stdout",
     "output_type": "stream",
     "text": [
      "Sure! Here are 15 property listings of houses around Singapore in CSV format:\n",
      "\n",
      "Neighborhood, Price, Bedrooms, Bathroom, House Size, Description, Neighborhood Description\n",
      "Orchard, 5000000, 4, 3, 2500 sqft, Beautiful house in prime location, Upscale area with shopping and dining options\n",
      "Changi, 3000000, 5, 4, 3200 sqft, Spacious family home near airport, Quiet neighborhood with good amenities\n",
      "Sentosa, 10000000, 6, 5, 5000 sqft, Luxurious waterfront property with stunning views, Exclusive island living with private beach access\n",
      "Bukit Timah, 3500000, 3, 2, 2000 sqft, Cosy house surrounded by greenery, Prestigious area known for its schools and nature reserves\n",
      "Marine Parade, 2200000, 4, 3, 1800 sqft, Modern house with sea view, Vibrant neighborhood with beach and shopping mall\n",
      "Tanjong Pagar, 4000000, 2, 2, 1500 sqft, Stylish urban living in the city center, Trendy area with great restaurants and nightlife\n",
      "Sengkang, 1200000, 5, 3, 2400 sqft, Spacious home in family-friendly neighborhood, Close to parks and schools\n",
      "Woodlands, 800000, 3, 2, 1600 sqft, Affordable house in quiet residential area, Good connectivity to amenities and public transport\n",
      "Jurong East, 2000000, 4, 3, 2100 sqft, Comfortable family home with garden, Convenient location near shopping malls and parks\n",
      "Punggol, 1500000, 4, 3, 1900 sqft, Waterfront living with modern amenities, Developing neighborhood with good recreational facilities\n",
      "Clementi, 2800000, 5, 4, 2200 sqft, Well-maintained house in established area, Close to schools, parks, and shopping centers\n",
      "Bedok, 1800000, 3, 2, 1700 sqft, Cozy house with garden in suburban setting, Family-friendly neighborhood with good schools and amenities\n",
      "Hougang, 1600000, 4, 3, 2000 sqft, Spacious home in quiet residential enclave, Close to parks, schools, and public transport\n",
      "Bukit Batok, 1300000, 3, 2, 1500 sqft, Renovated house with modern amenities, Peaceful neighborhood with good connectivity\n",
      "Serangoon, 2400000, 4, 3, 2300 sqft, Charming house in convenient location, Close to amenities, schools, and public transport\n",
      "\n",
      "I hope you find these listings helpful! Let me know if you need more information.\n"
     ]
    }
   ],
   "source": [
    "generated_property_listing = listing_response['choices'][0]['message']['content']  \n",
    "print(generated_property_listing)  "
   ]
  },
  {
   "cell_type": "markdown",
   "id": "93884488",
   "metadata": {},
   "source": [
    "#### Save the Prompt Response to a file "
   ]
  },
  {
   "cell_type": "code",
   "execution_count": 16,
   "id": "c6d43220",
   "metadata": {},
   "outputs": [
    {
     "name": "stdout",
     "output_type": "stream",
     "text": [
      "Saved listing successfully to listings_20250106.csv\n"
     ]
    }
   ],
   "source": [
    "current_timestamp = generate_current_timestamp()\n",
    "demo_listing_csv = f\"listings_{current_timestamp}.csv\"\n",
    "save_to_file(generated_property_listing, demo_listing_csv)"
   ]
  },
  {
   "cell_type": "markdown",
   "id": "0c60c1e8",
   "metadata": {},
   "source": [
    "#### Viewing the listing from the file\n",
    "Note: For this demo, we will be using the prepared file `listings.csv` instead"
   ]
  },
  {
   "cell_type": "code",
   "execution_count": 17,
   "id": "be312811",
   "metadata": {},
   "outputs": [
    {
     "data": {
      "text/html": [
       "<div>\n",
       "<style scoped>\n",
       "    .dataframe tbody tr th:only-of-type {\n",
       "        vertical-align: middle;\n",
       "    }\n",
       "\n",
       "    .dataframe tbody tr th {\n",
       "        vertical-align: top;\n",
       "    }\n",
       "\n",
       "    .dataframe thead th {\n",
       "        text-align: right;\n",
       "    }\n",
       "</style>\n",
       "<table border=\"1\" class=\"dataframe\">\n",
       "  <thead>\n",
       "    <tr style=\"text-align: right;\">\n",
       "      <th></th>\n",
       "      <th>Neighborhood</th>\n",
       "      <th>Price (SGD)</th>\n",
       "      <th>Bedrooms</th>\n",
       "      <th>Bathrooms</th>\n",
       "      <th>House Size (sq ft)</th>\n",
       "      <th>Description</th>\n",
       "      <th>Neighborhood Description</th>\n",
       "    </tr>\n",
       "  </thead>\n",
       "  <tbody>\n",
       "    <tr>\n",
       "      <th>0</th>\n",
       "      <td>Orchard Road</td>\n",
       "      <td>3500000</td>\n",
       "      <td>3</td>\n",
       "      <td>2</td>\n",
       "      <td>1200</td>\n",
       "      <td>Luxurious apartment with modern amenities and ...</td>\n",
       "      <td>Orchard Road is a vibrant shopping district kn...</td>\n",
       "    </tr>\n",
       "    <tr>\n",
       "      <th>1</th>\n",
       "      <td>Bukit Timah</td>\n",
       "      <td>2800000</td>\n",
       "      <td>4</td>\n",
       "      <td>3</td>\n",
       "      <td>2500</td>\n",
       "      <td>Spacious family home with a large garden and p...</td>\n",
       "      <td>Bukit Timah is a serene residential area with ...</td>\n",
       "    </tr>\n",
       "    <tr>\n",
       "      <th>2</th>\n",
       "      <td>Sentosa Cove</td>\n",
       "      <td>5200000</td>\n",
       "      <td>5</td>\n",
       "      <td>5</td>\n",
       "      <td>4000</td>\n",
       "      <td>Exclusive waterfront villa with private pool a...</td>\n",
       "      <td>Sentosa Cove is a luxurious resort-style commu...</td>\n",
       "    </tr>\n",
       "    <tr>\n",
       "      <th>3</th>\n",
       "      <td>Tiong Bahru</td>\n",
       "      <td>1600000</td>\n",
       "      <td>2</td>\n",
       "      <td>1</td>\n",
       "      <td>800</td>\n",
       "      <td>Charming heritage apartment with a cozy balcon...</td>\n",
       "      <td>Tiong Bahru is a trendy neighborhood with a mi...</td>\n",
       "    </tr>\n",
       "    <tr>\n",
       "      <th>4</th>\n",
       "      <td>East Coast</td>\n",
       "      <td>2200000</td>\n",
       "      <td>3</td>\n",
       "      <td>2</td>\n",
       "      <td>1800</td>\n",
       "      <td>Modern townhouse with easy access to the beach...</td>\n",
       "      <td>East Coast is known for its beautiful coastlin...</td>\n",
       "    </tr>\n",
       "    <tr>\n",
       "      <th>5</th>\n",
       "      <td>Holland Village</td>\n",
       "      <td>2500000</td>\n",
       "      <td>4</td>\n",
       "      <td>3</td>\n",
       "      <td>2200</td>\n",
       "      <td>Stylish home with an open-concept layout and v...</td>\n",
       "      <td>Holland Village is a lively area with a mix of...</td>\n",
       "    </tr>\n",
       "    <tr>\n",
       "      <th>6</th>\n",
       "      <td>Marina Bay</td>\n",
       "      <td>4000000</td>\n",
       "      <td>3</td>\n",
       "      <td>2</td>\n",
       "      <td>1500</td>\n",
       "      <td>Contemporary apartment with panoramic views of...</td>\n",
       "      <td>Marina Bay is a bustling financial district wi...</td>\n",
       "    </tr>\n",
       "    <tr>\n",
       "      <th>7</th>\n",
       "      <td>Jurong East</td>\n",
       "      <td>1200000</td>\n",
       "      <td>3</td>\n",
       "      <td>2</td>\n",
       "      <td>1000</td>\n",
       "      <td>Affordable family home close to shopping malls...</td>\n",
       "      <td>Jurong East is a growing commercial hub with v...</td>\n",
       "    </tr>\n",
       "    <tr>\n",
       "      <th>8</th>\n",
       "      <td>Punggol</td>\n",
       "      <td>1000000</td>\n",
       "      <td>4</td>\n",
       "      <td>3</td>\n",
       "      <td>1600</td>\n",
       "      <td>Modern HDB flat with spacious living areas and...</td>\n",
       "      <td>Punggol is a waterfront town known for its fam...</td>\n",
       "    </tr>\n",
       "    <tr>\n",
       "      <th>9</th>\n",
       "      <td>Bukit Batok</td>\n",
       "      <td>1500000</td>\n",
       "      <td>3</td>\n",
       "      <td>2</td>\n",
       "      <td>1200</td>\n",
       "      <td>Cozy home with a backyard and nearby nature re...</td>\n",
       "      <td>Bukit Batok is a peaceful residential area wit...</td>\n",
       "    </tr>\n",
       "    <tr>\n",
       "      <th>10</th>\n",
       "      <td>Novena</td>\n",
       "      <td>2000000</td>\n",
       "      <td>2</td>\n",
       "      <td>2</td>\n",
       "      <td>1000</td>\n",
       "      <td>Elegant apartment with modern finishes and clo...</td>\n",
       "      <td>Novena is a central area known for its healthc...</td>\n",
       "    </tr>\n",
       "    <tr>\n",
       "      <th>11</th>\n",
       "      <td>Woodlands</td>\n",
       "      <td>900000</td>\n",
       "      <td>3</td>\n",
       "      <td>2</td>\n",
       "      <td>1400</td>\n",
       "      <td>Affordable home with a community feel and acce...</td>\n",
       "      <td>Woodlands is a suburban area with a mix of res...</td>\n",
       "    </tr>\n",
       "    <tr>\n",
       "      <th>12</th>\n",
       "      <td>Serangoon</td>\n",
       "      <td>1800000</td>\n",
       "      <td>4</td>\n",
       "      <td>3</td>\n",
       "      <td>2000</td>\n",
       "      <td>Spacious semi-detached house with a large gard...</td>\n",
       "      <td>Serangoon is a vibrant neighborhood with diver...</td>\n",
       "    </tr>\n",
       "    <tr>\n",
       "      <th>13</th>\n",
       "      <td>Yishun</td>\n",
       "      <td>1100000</td>\n",
       "      <td>3</td>\n",
       "      <td>2</td>\n",
       "      <td>1300</td>\n",
       "      <td>Comfortable home with modern amenities and nea...</td>\n",
       "      <td>Yishun is a family-oriented town with various ...</td>\n",
       "    </tr>\n",
       "    <tr>\n",
       "      <th>14</th>\n",
       "      <td>Clementi</td>\n",
       "      <td>1400000</td>\n",
       "      <td>3</td>\n",
       "      <td>2</td>\n",
       "      <td>1500</td>\n",
       "      <td>Well-maintained apartment with easy access to ...</td>\n",
       "      <td>Clementi is a bustling area with shopping mall...</td>\n",
       "    </tr>\n",
       "  </tbody>\n",
       "</table>\n",
       "</div>"
      ],
      "text/plain": [
       "       Neighborhood  Price (SGD)  Bedrooms  Bathrooms  House Size (sq ft)  \\\n",
       "0      Orchard Road      3500000         3          2                1200   \n",
       "1       Bukit Timah      2800000         4          3                2500   \n",
       "2      Sentosa Cove      5200000         5          5                4000   \n",
       "3       Tiong Bahru      1600000         2          1                 800   \n",
       "4        East Coast      2200000         3          2                1800   \n",
       "5   Holland Village      2500000         4          3                2200   \n",
       "6        Marina Bay      4000000         3          2                1500   \n",
       "7       Jurong East      1200000         3          2                1000   \n",
       "8           Punggol      1000000         4          3                1600   \n",
       "9       Bukit Batok      1500000         3          2                1200   \n",
       "10           Novena      2000000         2          2                1000   \n",
       "11        Woodlands       900000         3          2                1400   \n",
       "12        Serangoon      1800000         4          3                2000   \n",
       "13           Yishun      1100000         3          2                1300   \n",
       "14         Clementi      1400000         3          2                1500   \n",
       "\n",
       "                                          Description  \\\n",
       "0   Luxurious apartment with modern amenities and ...   \n",
       "1   Spacious family home with a large garden and p...   \n",
       "2   Exclusive waterfront villa with private pool a...   \n",
       "3   Charming heritage apartment with a cozy balcon...   \n",
       "4   Modern townhouse with easy access to the beach...   \n",
       "5   Stylish home with an open-concept layout and v...   \n",
       "6   Contemporary apartment with panoramic views of...   \n",
       "7   Affordable family home close to shopping malls...   \n",
       "8   Modern HDB flat with spacious living areas and...   \n",
       "9   Cozy home with a backyard and nearby nature re...   \n",
       "10  Elegant apartment with modern finishes and clo...   \n",
       "11  Affordable home with a community feel and acce...   \n",
       "12  Spacious semi-detached house with a large gard...   \n",
       "13  Comfortable home with modern amenities and nea...   \n",
       "14  Well-maintained apartment with easy access to ...   \n",
       "\n",
       "                             Neighborhood Description  \n",
       "0   Orchard Road is a vibrant shopping district kn...  \n",
       "1   Bukit Timah is a serene residential area with ...  \n",
       "2   Sentosa Cove is a luxurious resort-style commu...  \n",
       "3   Tiong Bahru is a trendy neighborhood with a mi...  \n",
       "4   East Coast is known for its beautiful coastlin...  \n",
       "5   Holland Village is a lively area with a mix of...  \n",
       "6   Marina Bay is a bustling financial district wi...  \n",
       "7   Jurong East is a growing commercial hub with v...  \n",
       "8   Punggol is a waterfront town known for its fam...  \n",
       "9   Bukit Batok is a peaceful residential area wit...  \n",
       "10  Novena is a central area known for its healthc...  \n",
       "11  Woodlands is a suburban area with a mix of res...  \n",
       "12  Serangoon is a vibrant neighborhood with diver...  \n",
       "13  Yishun is a family-oriented town with various ...  \n",
       "14  Clementi is a bustling area with shopping mall...  "
      ]
     },
     "execution_count": 17,
     "metadata": {},
     "output_type": "execute_result"
    }
   ],
   "source": [
    "demo_listing_csv = \"listings.csv\"\n",
    "df_listings = pd.read_csv(demo_listing_csv)\n",
    "df_listings"
   ]
  },
  {
   "cell_type": "markdown",
   "id": "9f4e631f",
   "metadata": {},
   "source": [
    "## Store Listings in a Vector Database"
   ]
  },
  {
   "cell_type": "markdown",
   "id": "6bd78324",
   "metadata": {},
   "source": [
    "- Vector Database Setup: Initialize and configure ChromaDB or a similar vector database to store real estate listings.\n",
    "- Generating and Storing Embeddings: Convert the LLM-generated listings into suitable embeddings that capture the semantic content of each listing, and store these embeddings in the vector database."
   ]
  },
  {
   "cell_type": "code",
   "execution_count": 18,
   "id": "40697b07",
   "metadata": {},
   "outputs": [],
   "source": [
    "# from chromadb.utils import embedding_functions\n",
    "# default_embedding_function = embedding_functions.DefaultEmbeddingFunction()"
   ]
  },
  {
   "cell_type": "code",
   "execution_count": 19,
   "id": "fe4e714d",
   "metadata": {},
   "outputs": [],
   "source": [
    "# import chromadb.utils.embedding_functions as embedding_functions\n",
    "# openai_embedding_function = embedding_functions.OpenAIEmbeddingFunction(\n",
    "#                 api_key=os.environ[\"OPENAI_API_KEY\"],\n",
    "#                 model_name=\"text-embedding-3-small\"\n",
    "#             )"
   ]
  },
  {
   "cell_type": "code",
   "execution_count": 20,
   "id": "653bef7b",
   "metadata": {},
   "outputs": [
    {
     "name": "stderr",
     "output_type": "stream",
     "text": [
      "/opt/conda/lib/python3.10/site-packages/huggingface_hub/file_download.py:1132: FutureWarning: `resume_download` is deprecated and will be removed in version 1.0.0. Downloads always resume when possible. If you want to force a new download, use `force_download=True`.\n",
      "  warnings.warn(\n"
     ]
    }
   ],
   "source": [
    "from transformers import BertTokenizer, BertModel  \n",
    "import torch  \n",
    "\n",
    "# Load a BERT model and tokenizer  \n",
    "model_name = \"bert-base-uncased\"  # Example model  \n",
    "tokenizer = BertTokenizer.from_pretrained(model_name)  \n",
    "model = BertModel.from_pretrained(model_name)  \n",
    "\n",
    "# Function to generate embeddings  \n",
    "def bert_embedding(text):  \n",
    "    inputs = tokenizer(text, return_tensors=\"pt\", padding=True, truncation=True, max_length=512)   \n",
    "    with torch.no_grad():  \n",
    "        outputs = model(**inputs)  \n",
    "        embedding = outputs.last_hidden_state.mean(dim=1)  # Average pooling  \n",
    "        return embedding.squeeze().numpy()  # Convert to numpy array  "
   ]
  },
  {
   "cell_type": "markdown",
   "id": "8a9ff6d5",
   "metadata": {},
   "source": [
    "#### Create ChromaDB Client"
   ]
  },
  {
   "cell_type": "code",
   "execution_count": 21,
   "id": "b1949061",
   "metadata": {},
   "outputs": [],
   "source": [
    "import chromadb\n",
    "chroma_client = chromadb.Client()"
   ]
  },
  {
   "cell_type": "markdown",
   "id": "a7787c84",
   "metadata": {},
   "source": [
    "#### Create ChromaDB Collection"
   ]
  },
  {
   "cell_type": "code",
   "execution_count": 22,
   "id": "a50a1c13",
   "metadata": {},
   "outputs": [],
   "source": [
    "collection_name = \"home_listings\"\n",
    "\n",
    "# chroma_client.delete_collection(name=collection_name)\n",
    "collection = chroma_client.get_or_create_collection(name=collection_name, embedding_function=bert_embedding)"
   ]
  },
  {
   "cell_type": "code",
   "execution_count": 23,
   "id": "77a7ad95",
   "metadata": {},
   "outputs": [
    {
     "name": "stdout",
     "output_type": "stream",
     "text": [
      "There are [0] documents in [home_listings] collection\n"
     ]
    }
   ],
   "source": [
    "print(f\"There are [{collection.count()}] documents in [{collection_name}] collection\")\n",
    "# collection.peek()"
   ]
  },
  {
   "cell_type": "markdown",
   "id": "3c2861d4",
   "metadata": {},
   "source": [
    "#### Load Home Listing CSV"
   ]
  },
  {
   "cell_type": "code",
   "execution_count": 24,
   "id": "3af9e442",
   "metadata": {},
   "outputs": [
    {
     "data": {
      "text/html": [
       "<div>\n",
       "<style scoped>\n",
       "    .dataframe tbody tr th:only-of-type {\n",
       "        vertical-align: middle;\n",
       "    }\n",
       "\n",
       "    .dataframe tbody tr th {\n",
       "        vertical-align: top;\n",
       "    }\n",
       "\n",
       "    .dataframe thead th {\n",
       "        text-align: right;\n",
       "    }\n",
       "</style>\n",
       "<table border=\"1\" class=\"dataframe\">\n",
       "  <thead>\n",
       "    <tr style=\"text-align: right;\">\n",
       "      <th></th>\n",
       "      <th>Neighborhood</th>\n",
       "      <th>Price (SGD)</th>\n",
       "      <th>Bedrooms</th>\n",
       "      <th>Bathrooms</th>\n",
       "      <th>House Size (sq ft)</th>\n",
       "      <th>Description</th>\n",
       "      <th>Neighborhood Description</th>\n",
       "    </tr>\n",
       "  </thead>\n",
       "  <tbody>\n",
       "    <tr>\n",
       "      <th>0</th>\n",
       "      <td>Orchard Road</td>\n",
       "      <td>3500000</td>\n",
       "      <td>3</td>\n",
       "      <td>2</td>\n",
       "      <td>1200</td>\n",
       "      <td>Luxurious apartment with modern amenities and ...</td>\n",
       "      <td>Orchard Road is a vibrant shopping district kn...</td>\n",
       "    </tr>\n",
       "  </tbody>\n",
       "</table>\n",
       "</div>"
      ],
      "text/plain": [
       "   Neighborhood  Price (SGD)  Bedrooms  Bathrooms  House Size (sq ft)  \\\n",
       "0  Orchard Road      3500000         3          2                1200   \n",
       "\n",
       "                                         Description  \\\n",
       "0  Luxurious apartment with modern amenities and ...   \n",
       "\n",
       "                            Neighborhood Description  \n",
       "0  Orchard Road is a vibrant shopping district kn...  "
      ]
     },
     "execution_count": 24,
     "metadata": {},
     "output_type": "execute_result"
    }
   ],
   "source": [
    "df_listings.head(1)"
   ]
  },
  {
   "cell_type": "code",
   "execution_count": 25,
   "id": "573f3ff9",
   "metadata": {},
   "outputs": [
    {
     "data": {
      "text/plain": [
       "Index(['Neighborhood', 'Price (SGD)', 'Bedrooms', 'Bathrooms',\n",
       "       'House Size (sq ft)', 'Description', 'Neighborhood Description'],\n",
       "      dtype='object')"
      ]
     },
     "execution_count": 25,
     "metadata": {},
     "output_type": "execute_result"
    }
   ],
   "source": [
    "df_listings.columns"
   ]
  },
  {
   "cell_type": "code",
   "execution_count": 26,
   "id": "10161865",
   "metadata": {},
   "outputs": [],
   "source": [
    "df_listings['text'] = \"Area: \" + df_listings['Neighborhood'] + \" \"\\\n",
    "        \"Price: \" + df_listings['Price (SGD)'].astype(str) + \" \"\\\n",
    "        \"Bedrooms: \" + df_listings['Bedrooms'].astype(str) + \" \"\\\n",
    "        \"Bathrooms: \" + df_listings['Bathrooms'].astype(str) + \" \" + \\\n",
    "        \"House Size (sq ft): \" + df_listings['House Size (sq ft)'].astype(str) + \" \" + \\\n",
    "        \"Description: \" + df_listings['Description'].astype(str) + \" \" + \\\n",
    "        \"Neighborhood Description: \" + df_listings['Neighborhood Description']"
   ]
  },
  {
   "cell_type": "code",
   "execution_count": 27,
   "id": "9d58e18f",
   "metadata": {},
   "outputs": [
    {
     "data": {
      "text/plain": [
       "0     Area: Orchard Road Price: 3500000 Bedrooms: 3 ...\n",
       "1     Area: Bukit Timah Price: 2800000 Bedrooms: 4 B...\n",
       "2     Area: Sentosa Cove Price: 5200000 Bedrooms: 5 ...\n",
       "3     Area: Tiong Bahru Price: 1600000 Bedrooms: 2 B...\n",
       "4     Area: East Coast Price: 2200000 Bedrooms: 3 Ba...\n",
       "5     Area: Holland Village Price: 2500000 Bedrooms:...\n",
       "6     Area: Marina Bay Price: 4000000 Bedrooms: 3 Ba...\n",
       "7     Area: Jurong East Price: 1200000 Bedrooms: 3 B...\n",
       "8     Area: Punggol Price: 1000000 Bedrooms: 4 Bathr...\n",
       "9     Area: Bukit Batok Price: 1500000 Bedrooms: 3 B...\n",
       "10    Area: Novena Price: 2000000 Bedrooms: 2 Bathro...\n",
       "11    Area: Woodlands Price: 900000 Bedrooms: 3 Bath...\n",
       "12    Area: Serangoon Price: 1800000 Bedrooms: 4 Bat...\n",
       "13    Area: Yishun Price: 1100000 Bedrooms: 3 Bathro...\n",
       "14    Area: Clementi Price: 1400000 Bedrooms: 3 Bath...\n",
       "Name: text, dtype: object"
      ]
     },
     "execution_count": 27,
     "metadata": {},
     "output_type": "execute_result"
    }
   ],
   "source": [
    "df_listings['text']"
   ]
  },
  {
   "cell_type": "markdown",
   "id": "cd65c2c0",
   "metadata": {},
   "source": [
    "#### Generate Embeddings"
   ]
  },
  {
   "cell_type": "code",
   "execution_count": 28,
   "id": "cbabaac4",
   "metadata": {},
   "outputs": [],
   "source": [
    "embedding_function = bert_embedding\n",
    "df_listings['embeddings'] = df_listings['text'].apply(embedding_function)"
   ]
  },
  {
   "cell_type": "markdown",
   "id": "23d20e18",
   "metadata": {},
   "source": [
    "#### Checking Size of Embeddings"
   ]
  },
  {
   "cell_type": "code",
   "execution_count": 29,
   "id": "136c875f",
   "metadata": {},
   "outputs": [
    {
     "name": "stdout",
     "output_type": "stream",
     "text": [
      "0 - 768\n",
      "1 - 768\n",
      "2 - 768\n",
      "3 - 768\n",
      "4 - 768\n",
      "5 - 768\n",
      "6 - 768\n",
      "7 - 768\n",
      "8 - 768\n",
      "9 - 768\n",
      "10 - 768\n",
      "11 - 768\n",
      "12 - 768\n",
      "13 - 768\n",
      "14 - 768\n"
     ]
    }
   ],
   "source": [
    "for idx, items in df_listings.iterrows():\n",
    "    print(f\"{idx} - {len(items['embeddings'])}\")"
   ]
  },
  {
   "cell_type": "markdown",
   "id": "bceb9ba9",
   "metadata": {},
   "source": [
    "#### Save Data into ChromaDB"
   ]
  },
  {
   "cell_type": "code",
   "execution_count": 30,
   "id": "804622fc",
   "metadata": {
    "scrolled": true
   },
   "outputs": [],
   "source": [
    "import numpy as np  \n",
    "\n",
    "for idx, listing in df_listings.iterrows():\n",
    "    collection.add(\n",
    "        documents = [listing['text']],\n",
    "        embeddings = [listing['embeddings'].tolist()],\n",
    "        ids=[str(idx)]\n",
    "    )"
   ]
  },
  {
   "cell_type": "code",
   "execution_count": 31,
   "id": "c97f4523",
   "metadata": {},
   "outputs": [
    {
     "name": "stdout",
     "output_type": "stream",
     "text": [
      "There are [15] documents in [home_listings] collection\n"
     ]
    }
   ],
   "source": [
    "print(f\"There are [{collection.count()}] documents in [{collection_name}] collection\")\n",
    "# collection.peek()"
   ]
  },
  {
   "cell_type": "markdown",
   "id": "1bea95f8",
   "metadata": {},
   "source": [
    "## Searching Based on Preferences"
   ]
  },
  {
   "cell_type": "markdown",
   "id": "377d1a23",
   "metadata": {},
   "source": [
    "- `Semantic Search Implementation`: Use the structured buyer preferences to perform a semantic search on the vector database, retrieving listings that most closely match the user's requirements.\n",
    "- `Listing Retrieval Logic`: Fine-tune the retrieval algorithm to ensure that the most relevant listings are selected based on the semantic closeness to the buyer’s preferences."
   ]
  },
  {
   "cell_type": "code",
   "execution_count": 32,
   "id": "80365a8a",
   "metadata": {},
   "outputs": [],
   "source": [
    "def generate_search_query(answers=[]):\n",
    "    return f\"\"\"\n",
    "        House Size: {answers[0]} \n",
    "        Top 3 Considerations: {answers[1]} \n",
    "        Amenities: {answers[2]} \n",
    "        Transportation: {answers[3]} \n",
    "        Neighborhood: {answers[4]} \n",
    "    \"\"\".strip().replace('\\n', '')"
   ]
  },
  {
   "cell_type": "code",
   "execution_count": 33,
   "id": "1c56e190",
   "metadata": {},
   "outputs": [],
   "source": [
    "def generate_search_embeddings(search_text, embedding_function):\n",
    "    return embedding_function(search_text)"
   ]
  },
  {
   "cell_type": "code",
   "execution_count": 34,
   "id": "247e3725",
   "metadata": {},
   "outputs": [],
   "source": [
    "def generate_search_result(chroma_collection, embeddings, top_n = 1):\n",
    "    search_results = chroma_collection.query(\n",
    "        query_embeddings=embeddings.tolist(),\n",
    "        n_results = top_n,\n",
    "        include=[\"documents\", \"distances\"]\n",
    "    )\n",
    "    return search_results['documents'], search_results['distances']"
   ]
  },
  {
   "cell_type": "markdown",
   "id": "920e0f75",
   "metadata": {},
   "source": [
    "#### Search Result for Demo User Input"
   ]
  },
  {
   "cell_type": "code",
   "execution_count": 35,
   "id": "2971f64e",
   "metadata": {},
   "outputs": [],
   "source": [
    "\n",
    "demo_answer_set_1 = [\n",
    "    r\"a house that is spacious enough to accommodate my family comfortably, ideally around 1,800 square feet or more\",\n",
    "    r\"a good balance of space and comfort, proximity to recreational areas, and a vibrant community atmosphere\",\n",
    "    r\"access to parks, recreational facilities, and modern conveniences that enhance daily living\",\n",
    "    r\"convenient public transportation options available, including nearby bus stops and train stations for easy commuting\",\n",
    "    r\"neighborhood that strikes a balance between urban vibrancy and a community-oriented atmosphere, with access to shops and cafes while still having green spaces\"\n",
    "]"
   ]
  },
  {
   "cell_type": "code",
   "execution_count": 36,
   "id": "6a80dc4b",
   "metadata": {},
   "outputs": [],
   "source": [
    "\n",
    "demo_answer_set_2 = [\n",
    "    r\"a house size around 1,200 to 1,400 square feet, as it provides a comfortable living space without being too large to maintain\",\n",
    "    r\"affordability, modern amenities, and a family-friendly environment\",\n",
    "    r\"parks for outdoor activities, community facilities for social gatherings, and modern conveniences within the property itself\",\n",
    "    r\"access to public transport options is crucial, as it allows for easy commuting to work and other areas. Proximity to major roads would also be beneficial for driving\",\n",
    "    r\"neighborhood that strikes a balance between urban and suburban, offering essential services and amenities while maintaining a community feel and access to green spaces\"\n",
    "]"
   ]
  },
  {
   "cell_type": "code",
   "execution_count": 37,
   "id": "1da94460",
   "metadata": {},
   "outputs": [],
   "source": [
    "demo_answers = demo_answer_set_1"
   ]
  },
  {
   "cell_type": "code",
   "execution_count": 38,
   "id": "e645280f",
   "metadata": {},
   "outputs": [
    {
     "data": {
      "text/plain": [
       "'House Size: a house that is spacious enough to accommodate my family comfortably, ideally around 1,800 square feet or more         Top 3 Considerations: a good balance of space and comfort, proximity to recreational areas, and a vibrant community atmosphere         Amenities: access to parks, recreational facilities, and modern conveniences that enhance daily living         Transportation: convenient public transportation options available, including nearby bus stops and train stations for easy commuting         Neighborhood: neighborhood that strikes a balance between urban vibrancy and a community-oriented atmosphere, with access to shops and cafes while still having green spaces'"
      ]
     },
     "execution_count": 38,
     "metadata": {},
     "output_type": "execute_result"
    }
   ],
   "source": [
    "demo_text = generate_search_query(demo_answers)\n",
    "demo_text"
   ]
  },
  {
   "cell_type": "code",
   "execution_count": 39,
   "id": "d021366b",
   "metadata": {},
   "outputs": [],
   "source": [
    "demo_embeddings = generate_search_embeddings(demo_text, embedding_function)\n",
    "# demo_embeddings"
   ]
  },
  {
   "cell_type": "code",
   "execution_count": 40,
   "id": "bf47618b",
   "metadata": {},
   "outputs": [],
   "source": [
    "search_recommendations, search_scores = generate_search_result(collection, demo_embeddings, 5)"
   ]
  },
  {
   "cell_type": "code",
   "execution_count": 41,
   "id": "80e9564e",
   "metadata": {},
   "outputs": [
    {
     "name": "stdout",
     "output_type": "stream",
     "text": [
      "19.37670135498047 - Area: Clementi Price: 1400000 Bedrooms: 3 Bathrooms: 2 House Size (sq ft): 1500 Description: Well-maintained apartment with easy access to public transport. Neighborhood Description: Clementi is a bustling area with shopping malls, schools, and recreational spaces.\n",
      "19.42504119873047 - Area: Woodlands Price: 900000 Bedrooms: 3 Bathrooms: 2 House Size (sq ft): 1400 Description: Affordable home with a community feel and access to amenities. Neighborhood Description: Woodlands is a suburban area with a mix of residential and commercial developments.  \n",
      "21.678491592407227 - Area: East Coast Price: 2200000 Bedrooms: 3 Bathrooms: 2 House Size (sq ft): 1800 Description: Modern townhouse with easy access to the beach and parks. Neighborhood Description: East Coast is known for its beautiful coastline, recreational activities, and eateries.  \n",
      "21.867773056030273 - Area: Holland Village Price: 2500000 Bedrooms: 4 Bathrooms: 3 House Size (sq ft): 2200 Description: Stylish home with an open-concept layout and vibrant neighborhood vibes. Neighborhood Description: Holland Village is a lively area with a mix of local and international dining options.  \n",
      "23.48943519592285 - Area: Orchard Road Price: 3500000 Bedrooms: 3 Bathrooms: 2 House Size (sq ft): 1200 Description: Luxurious apartment with modern amenities and stunning city views. Neighborhood Description: Orchard Road is a vibrant shopping district known for its high-end retail and dining.  \n"
     ]
    }
   ],
   "source": [
    "search_result = zip(search_recommendations[0], search_scores[0])\n",
    "for recommendation, score in search_result:\n",
    "    print(f\"{score} - {recommendation}\")"
   ]
  },
  {
   "cell_type": "code",
   "execution_count": 42,
   "id": "30cf59ea",
   "metadata": {},
   "outputs": [
    {
     "data": {
      "text/plain": [
       "'Area: Clementi Price: 1400000 Bedrooms: 3 Bathrooms: 2 House Size (sq ft): 1500 Description: Well-maintained apartment with easy access to public transport. Neighborhood Description: Clementi is a bustling area with shopping malls, schools, and recreational spaces.'"
      ]
     },
     "execution_count": 42,
     "metadata": {},
     "output_type": "execute_result"
    }
   ],
   "source": [
    "search_recommendation = search_recommendations[0][0]\n",
    "search_recommendation"
   ]
  },
  {
   "cell_type": "markdown",
   "id": "f91b9039",
   "metadata": {},
   "source": [
    "## Personalizing Listing Descriptions"
   ]
  },
  {
   "cell_type": "markdown",
   "id": "687a350e",
   "metadata": {},
   "source": [
    "- LLM Augmentation: For each retrieved listing, use the LLM to augment the description, tailoring it to resonate with the buyer’s specific preferences. This involves subtly emphasizing aspects of the property that align with what the buyer is looking for.\n",
    "- Maintaining Factual Integrity: Ensure that the augmentation process enhances the appeal of the listing without altering factual information."
   ]
  },
  {
   "cell_type": "code",
   "execution_count": 43,
   "id": "c0e747d8",
   "metadata": {},
   "outputs": [],
   "source": [
    "import openai\n",
    "openai.api_key = os.environ[\"OPENAI_API_KEY\"]"
   ]
  },
  {
   "cell_type": "code",
   "execution_count": 54,
   "id": "f1e90f53",
   "metadata": {},
   "outputs": [],
   "source": [
    "def generate_personalized_prompt_template(user_input, search_recommendation):\n",
    "    return f\"\"\"\n",
    "        The user input for the search is: {user_input}.\n",
    "        The recommendation from the search is: {search_recommendation}. \n",
    "\n",
    "        Return the result with the rest of the fields untouched and replacing the description and neigborhood description with a personalized touch based using the user input in order to appeal to them.\n",
    "        Use only data from the recommendation and user input and do not provide any non-factual input.\n",
    "    \"\"\""
   ]
  },
  {
   "cell_type": "code",
   "execution_count": 55,
   "id": "6af2a4d8",
   "metadata": {},
   "outputs": [],
   "source": [
    "def generate_personalized_prompt_response(user_prompt, model_name = 'gpt-3.5-turbo'):\n",
    "    return openai.ChatCompletion.create(  \n",
    "        model=model_name,  \n",
    "        messages=[\n",
    "                {\"role\": \"system\", \"content\": \"You are a helpful property guru assistant that provides accurate and detailed information based on the user's queries. Avoid making assumptions and focus on the provided data.\"},\n",
    "                {\"role\": \"user\", \"content\": user_prompt}  \n",
    "            ]  \n",
    "        )  "
   ]
  },
  {
   "cell_type": "markdown",
   "id": "cc46ab3d",
   "metadata": {},
   "source": [
    "#### Generate Prompt to provide user with the feedback"
   ]
  },
  {
   "cell_type": "code",
   "execution_count": 56,
   "id": "f332979a",
   "metadata": {},
   "outputs": [],
   "source": [
    "# Prepare the prompt for OpenAI\n",
    "personalized_prompt = generate_personalized_prompt_template(demo_answers, search_recommendation)"
   ]
  },
  {
   "cell_type": "markdown",
   "id": "adafac04",
   "metadata": {},
   "source": [
    "#### Send Prompt to OpenAI Model"
   ]
  },
  {
   "cell_type": "code",
   "execution_count": 57,
   "id": "c57a7eda",
   "metadata": {},
   "outputs": [],
   "source": [
    "personalized_response = generate_personalized_prompt_response(personalized_prompt)"
   ]
  },
  {
   "cell_type": "markdown",
   "id": "2e6be435",
   "metadata": {},
   "source": [
    "#### Show the Prompt Response from OpenAI"
   ]
  },
  {
   "cell_type": "code",
   "execution_count": 58,
   "id": "e2137abd",
   "metadata": {},
   "outputs": [
    {
     "name": "stdout",
     "output_type": "stream",
     "text": [
      "Original\n",
      "Area: Clementi Price: 1400000 Bedrooms: 3 Bathrooms: 2 House Size (sq ft): 1500 Description: Well-maintained apartment with easy access to public transport. Neighborhood Description: Clementi is a bustling area with shopping malls, schools, and recreational spaces.\n",
      "--\n"
     ]
    }
   ],
   "source": [
    "print(\"Original\")\n",
    "print(search_recommendation)\n",
    "print(\"--\")"
   ]
  },
  {
   "cell_type": "code",
   "execution_count": 59,
   "id": "9172e580",
   "metadata": {},
   "outputs": [
    {
     "name": "stdout",
     "output_type": "stream",
     "text": [
      "Personalized\n",
      "Area: Clementi\n",
      "Price: 1400000\n",
      "Bedrooms: 3\n",
      "Bathrooms: 2\n",
      "House Size (sq ft): 1500\n",
      "Description: This spacious 3-bedroom apartment in Clementi offers a perfect balance of space and comfort, ideal for accommodating your family comfortably. With a size of 1500 square feet, it provides the room you need for a vibrant and active household.\n",
      "Neighborhood Description: Clementi is not only a bustling area with shopping malls, schools, and recreational spaces but also a community-oriented neighborhood that strikes a balance between urban vibrancy and a laid-back atmosphere. You'll find yourself within easy reach of parks, recreational facilities, modern conveniences, shops, cafes, and green spaces, making everyday living convenient and enjoyable. Plus, with convenient public transportation options nearby, including bus stops and train stations, commuting to work or exploring the city is a breeze.\n",
      "--\n"
     ]
    }
   ],
   "source": [
    "personalized_description = personalized_response['choices'][0]['message']['content']  \n",
    "print(\"Personalized\")\n",
    "print(personalized_description)\n",
    "print(\"--\")"
   ]
  },
  {
   "cell_type": "markdown",
   "id": "5931bfdd",
   "metadata": {},
   "source": [
    "## Building the User Preference Interface"
   ]
  },
  {
   "cell_type": "markdown",
   "id": "ef33046a",
   "metadata": {},
   "source": [
    "- Collect buyer preferences, such as the number of bedrooms, bathrooms, location, and other specific requirements from a set of questions or telling the buyer to enter their preferences in natural language. You can hard-code the buyer preferences in questions and answers, or collect them interactively however you'd like\n",
    "\n",
    "`example`\n",
    "\n",
    "```\n",
    "questions = [   \n",
    "                \"How big do you want your house to be?\" \n",
    "                \"What are 3 most important things for you in choosing this property?\", \n",
    "                \"Which amenities would you like?\", \n",
    "                \"Which transportation options are important to you?\",\n",
    "                \"How urban do you want your neighborhood to be?\",   \n",
    "            ]\n",
    "answers = [\n",
    "    \"A comfortable three-bedroom house with a spacious kitchen and a cozy living room.\",\n",
    "    \"A quiet neighborhood, good local schools, and convenient shopping options.\",\n",
    "    \"A backyard for gardening, a two-car garage, and a modern, energy-efficient heating system.\",\n",
    "    \"Easy access to a reliable bus line, proximity to a major highway, and bike-friendly roads.\",\n",
    "    \"A balance between suburban tranquility and access to urban amenities like restaurants and theaters.\"\n",
    "]\n",
    "```\n",
    "\n",
    "- Buyer Preference Parsing: Implement logic to interpret and structure these preferences for querying the vector database."
   ]
  },
  {
   "cell_type": "code",
   "execution_count": 60,
   "id": "34200435",
   "metadata": {},
   "outputs": [],
   "source": [
    "def generate_personalized_recommendation(user_answers):\n",
    "    search_query = generate_search_query(user_answers)\n",
    "    print(f\"Summary: {search_query}\")\n",
    "    print(\"--\")\n",
    "    \n",
    "    search_embeddings = generate_search_embeddings(search_query, embedding_function)\n",
    "    search_recommendations, search_scores = generate_search_result(collection, search_embeddings)    \n",
    "    selected_recommendation = search_recommendations[0][0]\n",
    "    \n",
    "    prompt_template = generate_personalized_prompt_template(search_query, selected_recommendation)\n",
    "    prompt_response = generate_personalized_prompt_response(prompt_template)\n",
    "    \n",
    "    return selected_recommendation, prompt_response['choices'][0]['message']['content'] "
   ]
  },
  {
   "cell_type": "markdown",
   "id": "ce07182a",
   "metadata": {},
   "source": [
    "#### Prompt User for Answers"
   ]
  },
  {
   "cell_type": "code",
   "execution_count": 61,
   "id": "e2dd4f88",
   "metadata": {},
   "outputs": [],
   "source": [
    "questions = ['How big do you want your house to be?', 'What are 3 most important things for you in choosing this property?', 'Which amenities would you like?', 'Which transportation options are important to you?', 'How urban do you want your neighborhood to be?']"
   ]
  },
  {
   "cell_type": "markdown",
   "id": "2ae840a5",
   "metadata": {},
   "source": [
    "You may use the following to input in the application for testing\n",
    "```sample\n",
    "questions = [   \n",
    "                \"How big do you want your house to be?\" \n",
    "                \"What are 3 most important things for you in choosing this property?\", \n",
    "                \"Which amenities would you like?\", \n",
    "                \"Which transportation options are important to you?\",\n",
    "                \"How urban do you want your neighborhood to be?\",   \n",
    "            ]\n",
    "answers = [\n",
    "    \"A comfortable living space that accommodates family needs is ideal, providing enough room for everyone.\",\n",
    "    \"Proximity to medical facilities, a strong sense of community, and access to essential amenities are key factors in making a choice.\",\n",
    "    \"Access to nearby medical facilities, parks, and recreational areas is important for ensuring health and well-being while enjoying an active lifestyle.\",\n",
    "    \"Convenient access to public transport is essential for easy commuting, especially to medical facilities and other important locations.\",\n",
    "    \"A suburban setting that offers a peaceful atmosphere while being close to medical services and essential amenities is preferred for a balanced lifestyle.\"\n",
    "]\n",
    "```"
   ]
  },
  {
   "cell_type": "code",
   "execution_count": null,
   "id": "f44d7de7",
   "metadata": {},
   "outputs": [
    {
     "name": "stdout",
     "output_type": "stream",
     "text": [
      "Q1: How big do you want your house to be? A comfortable living space that accommodates family needs is ideal, providing enough room for everyone.\n",
      "A1: A comfortable living space that accommodates family needs is ideal, providing enough room for everyone.\n",
      "--\n",
      "Q2: What are 3 most important things for you in choosing this property? Proximity to medical facilities, a strong sense of community, and access to essential amenities are key factors in making a choice.\n",
      "A2: Proximity to medical facilities, a strong sense of community, and access to essential amenities are key factors in making a choice.\n",
      "--\n",
      "Q3: Which amenities would you like? Access to nearby medical facilities, parks, and recreational areas is important for ensuring health and well-being while enjoying an active lifestyle.\n",
      "A3: Access to nearby medical facilities, parks, and recreational areas is important for ensuring health and well-being while enjoying an active lifestyle.\n",
      "--\n",
      "Q4: Which transportation options are important to you? Convenient access to public transport is essential for easy commuting, especially to medical facilities and other important locations.\n",
      "A4: Convenient access to public transport is essential for easy commuting, especially to medical facilities and other important locations.\n",
      "--\n",
      "Q5: How urban do you want your neighborhood to be? A suburban setting that offers a peaceful atmosphere while being close to medical services and essential amenities is preferred for a balanced lifestyle.\n",
      "A5: A suburban setting that offers a peaceful atmosphere while being close to medical services and essential amenities is preferred for a balanced lifestyle.\n",
      "--\n",
      "Summary: House Size: A comfortable living space that accommodates family needs is ideal, providing enough room for everyone.         Top 3 Considerations: Proximity to medical facilities, a strong sense of community, and access to essential amenities are key factors in making a choice.         Amenities: Access to nearby medical facilities, parks, and recreational areas is important for ensuring health and well-being while enjoying an active lifestyle.         Transportation: Convenient access to public transport is essential for easy commuting, especially to medical facilities and other important locations.         Neighborhood: A suburban setting that offers a peaceful atmosphere while being close to medical services and essential amenities is preferred for a balanced lifestyle.\n",
      "--\n",
      "Original Description: \n",
      "Area: Woodlands Price: 900000 Bedrooms: 3 Bathrooms: 2 House Size (sq ft): 1400 Description: Affordable home with a community feel and access to amenities. Neighborhood Description: Woodlands is a suburban area with a mix of residential and commercial developments.  \n",
      "--\n",
      "Personalized Description: \n",
      "Area: Woodlands\n",
      "Price: 900000\n",
      "Bedrooms: 3\n",
      "Bathrooms: 2\n",
      "House Size (sq ft): 1400\n",
      "Personalized Description: This comfortable home in Woodlands provides a welcoming space for your family, offering a sense of community and access to essential amenities. It is an ideal choice for those seeking a balance between comfort and practicality.\n",
      "Personalized Neighborhood Description: Woodlands embodies the perfect suburban lifestyle, offering a serene environment with proximity to medical services and necessary amenities. It ensures a peaceful yet convenient living experience for you and your family.\n",
      "--\n"
     ]
    }
   ],
   "source": [
    "is_continue = True\n",
    "\n",
    "while is_continue:\n",
    "    user_answers = [None] * len(questions)\n",
    "    \n",
    "    for idx, question in enumerate(questions):\n",
    "        answer = input(f\"Q{idx + 1}: {question} \")\n",
    "        user_answers[idx] = answer\n",
    "        print(f\"A{idx + 1}: {user_answers[idx]}\")\n",
    "        print(\"--\")\n",
    "        \n",
    "    original_recommendation, personalized_recommendation = generate_personalized_recommendation(user_answers)\n",
    "    \n",
    "    print(f\"Original Description: \\n{original_recommendation}\")\n",
    "    print(\"--\")\n",
    "    \n",
    "    print(f\"Personalized Description: \\n{personalized_recommendation}\")\n",
    "    print(\"--\")\n",
    "        \n",
    "    check_continue = input(\"Any other questions? \")\n",
    "    if (check_continue.lower() == 'y' or check_continue.lower() == \"yes\"):\n",
    "        is_continue = True\n",
    "        print(\"--\")\n",
    "    else:\n",
    "        print(\"Ok - Byebye!\")\n",
    "        break"
   ]
  },
  {
   "cell_type": "markdown",
   "id": "7543424c",
   "metadata": {},
   "source": [
    "## Resources"
   ]
  },
  {
   "cell_type": "markdown",
   "id": "29c1b509",
   "metadata": {},
   "source": [
    "1. https://docs.trychroma.com/docs/overview/getting-started\n",
    "2. https://docs.trychroma.com/integrations/embedding-models/openai\n",
    "3. https://platform.openai.com/docs/guides/embeddings\n",
    "4. https://docs.trychroma.com/docs/embeddings/embedding-functions\n",
    "5. https://docs.trychroma.com/docs/collections/create-get-delete\n",
    "6. https://docs.trychroma.com/docs/collections/add-data\n",
    "7. https://platform.openai.com/docs/guides/text-generation\n",
    "8. https://huggingface.co/google-bert/bert-base-uncased"
   ]
  },
  {
   "cell_type": "code",
   "execution_count": null,
   "id": "d7a300f0",
   "metadata": {},
   "outputs": [],
   "source": []
  }
 ],
 "metadata": {
  "kernelspec": {
   "display_name": "Python 3 (ipykernel)",
   "language": "python",
   "name": "python3"
  },
  "language_info": {
   "codemirror_mode": {
    "name": "ipython",
    "version": 3
   },
   "file_extension": ".py",
   "mimetype": "text/x-python",
   "name": "python",
   "nbconvert_exporter": "python",
   "pygments_lexer": "ipython3",
   "version": "3.10.11"
  }
 },
 "nbformat": 4,
 "nbformat_minor": 5
}
